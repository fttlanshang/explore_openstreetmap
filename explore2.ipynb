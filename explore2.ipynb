{
 "cells": [
  {
   "cell_type": "code",
   "execution_count": 36,
   "metadata": {
    "collapsed": true
   },
   "outputs": [],
   "source": [
    "import sqlite3\n",
    "from collections import defaultdict,Counter"
   ]
  },
  {
   "cell_type": "code",
   "execution_count": 3,
   "metadata": {
    "collapsed": true
   },
   "outputs": [],
   "source": [
    "def retrieve_data_from_sqlite(query):\n",
    "    db = sqlite3.connect('sample_divide_by10.db')    \n",
    "    cur = db.cursor()\n",
    "    cur.execute(query)\n",
    "    return cur.fetchall()"
   ]
  },
  {
   "cell_type": "code",
   "execution_count": 5,
   "metadata": {},
   "outputs": [
    {
     "name": "stdout",
     "output_type": "stream",
     "text": [
      "[(89584,)]\n",
      "[(8387,)]\n",
      "[(4503,)]\n",
      "[(12365,)]\n",
      "[(36941,)]\n"
     ]
    }
   ],
   "source": [
    "# get how many records are there in each database\n",
    "print retrieve_data_from_sqlite('select count(*) from nodes')\n",
    "print retrieve_data_from_sqlite('select count(*) from nodes_tags')\n",
    "print retrieve_data_from_sqlite('select count(*) from ways')\n",
    "print retrieve_data_from_sqlite('select count(*) from ways_tags')\n",
    "print retrieve_data_from_sqlite('select count(*) from ways_nodes')"
   ]
  },
  {
   "cell_type": "code",
   "execution_count": 11,
   "metadata": {},
   "outputs": [
    {
     "data": {
      "text/plain": [
       "[(u'id', u'key', u'value', u'type\\r'),\n",
       " (25248662, u'ref', u'\\u4eac', u'regular\\r'),\n",
       " (25248662, u'name', u'\\u5317\\u4eac\\u5e02', u'regular\\r'),\n",
       " (25248662, u'rank', u'0', u'regular\\r'),\n",
       " (25248662, u'place', u'city', u'regular\\r'),\n",
       " (25248662, u'en', u'BJ', u'ref\\r'),\n",
       " (25248662, u'vi', u'Kinh', u'ref\\r'),\n",
       " (25248662, u'capital', u'yes', u'regular\\r'),\n",
       " (25248662, u'DSG', u'ADM1', u'gns\\r'),\n",
       " (25248662, u'UFI', u'-1898545', u'gns\\r')]"
      ]
     },
     "execution_count": 11,
     "metadata": {},
     "output_type": "execute_result"
    }
   ],
   "source": [
    "retrieve_data_from_sqlite('select * from nodes_tags limit 10')"
   ]
  },
  {
   "cell_type": "code",
   "execution_count": 32,
   "metadata": {
    "collapsed": true
   },
   "outputs": [],
   "source": [
    "def zero():\n",
    "    return 0"
   ]
  },
  {
   "cell_type": "code",
   "execution_count": 45,
   "metadata": {
    "collapsed": true
   },
   "outputs": [],
   "source": [
    "# want to find how many kinds of node tags are there in this sample?\n",
    "def get_tags_set(db, column):\n",
    "    tags = Counter()\n",
    "    results = retrieve_data_from_sqlite('select * from %s' %db)\n",
    "    for record in results:\n",
    "        if column == 'key':\n",
    "            key = record[1]\n",
    "        elif column == 'type':\n",
    "            key = record[3]\n",
    "        tags[key] += 1\n",
    "    return tags"
   ]
  },
  {
   "cell_type": "code",
   "execution_count": 49,
   "metadata": {},
   "outputs": [
    {
     "data": {
      "text/plain": [
       "[(u'power', 1328),\n",
       " (u'highway', 1317),\n",
       " (u'name', 1214),\n",
       " (u'public_transport', 600),\n",
       " (u'source', 506),\n",
       " (u'amenity', 487),\n",
       " (u'en', 267),\n",
       " (u'railway', 216),\n",
       " (u'barrier', 172),\n",
       " (u'shop', 168),\n",
       " (u'zh', 158),\n",
       " (u'shelter', 123),\n",
       " (u'bench', 122),\n",
       " (u'crossing', 120),\n",
       " (u'tourism', 117),\n",
       " (u'man_made', 84),\n",
       " (u'ref', 69),\n",
       " (u'subway', 67),\n",
       " (u'place', 60),\n",
       " (u'cuisine', 60),\n",
       " (u'street', 54),\n",
       " (u'housenumber', 47),\n",
       " (u'zh_pinyin', 46),\n",
       " (u'created_by', 45),\n",
       " (u'opening_hours', 39),\n",
       " (u'operator', 38),\n",
       " (u'website', 37),\n",
       " (u'exit_to', 33),\n",
       " (u'FIXME', 29),\n",
       " (u'traffic_signals', 25)]"
      ]
     },
     "execution_count": 49,
     "metadata": {},
     "output_type": "execute_result"
    }
   ],
   "source": [
    "nodes_tags = get_tags_set('nodes_tags', 'key')\n",
    "nodes_tags.most_common(30) # top 30 \n",
    "#power, highway, name(means is this node's name, i.e, people call it ...),\n",
    "# source(means from which source did the data come from?? not sure)\n",
    "# amenity(means this is a POI),"
   ]
  },
  {
   "cell_type": "code",
   "execution_count": 50,
   "metadata": {},
   "outputs": [
    {
     "data": {
      "text/plain": [
       "Counter({u'addr\\r': 140,\n",
       "         u'alt_name\\r': 5,\n",
       "         u'building\\r': 1,\n",
       "         u'contact\\r': 1,\n",
       "         u'diet\\r': 1,\n",
       "         u'disused\\r': 1,\n",
       "         u'fire_hydrant\\r': 1,\n",
       "         u'generator\\r': 13,\n",
       "         u'gns\\r': 12,\n",
       "         u'gps\\r': 2,\n",
       "         u'historic\\r': 3,\n",
       "         u'internet_access\\r': 6,\n",
       "         u'is_in\\r': 4,\n",
       "         u'name\\r': 677,\n",
       "         u'old_name\\r': 2,\n",
       "         u'operator\\r': 1,\n",
       "         u'payment\\r': 29,\n",
       "         u'ref\\r': 2,\n",
       "         u'regular\\r': 7472,\n",
       "         u'source\\r': 6,\n",
       "         u'tower\\r': 7,\n",
       "         u'type\\r': 1})"
      ]
     },
     "execution_count": 50,
     "metadata": {},
     "output_type": "execute_result"
    }
   ],
   "source": [
    "nodes_types = get_tags_set('nodes_tags', 'type')\n",
    "nodes_types"
   ]
  },
  {
   "cell_type": "code",
   "execution_count": 51,
   "metadata": {},
   "outputs": [
    {
     "data": {
      "text/plain": [
       "[(u'highway', 3350),\n",
       " (u'oneway', 1440),\n",
       " (u'name', 1203),\n",
       " (u'layer', 590),\n",
       " (u'bridge', 561),\n",
       " (u'en', 419),\n",
       " (u'building', 394),\n",
       " (u'railway', 381),\n",
       " (u'lanes', 343),\n",
       " (u'service', 256),\n",
       " (u'ref', 240),\n",
       " (u'source', 237),\n",
       " (u'public_transport', 231),\n",
       " (u'zh', 173),\n",
       " (u'shelter', 170),\n",
       " (u'bench', 153),\n",
       " (u'gauge', 138),\n",
       " (u'electrified', 128),\n",
       " (u'int_name', 119),\n",
       " (u'voltage', 117),\n",
       " (u'frequency', 101),\n",
       " (u'surface', 98),\n",
       " (u'zh_pinyin', 96),\n",
       " (u'barrier', 85),\n",
       " (u'tunnel', 78),\n",
       " (u'access', 74),\n",
       " (u'landuse', 74),\n",
       " (u'maxheight', 71),\n",
       " (u'aeroway', 54),\n",
       " (u'short_name', 52)]"
      ]
     },
     "execution_count": 51,
     "metadata": {},
     "output_type": "execute_result"
    }
   ],
   "source": [
    "ways_tags = get_tags_set('ways_tags', 'key')\n",
    "ways_tags.most_common(30) # top 30 "
   ]
  },
  {
   "cell_type": "code",
   "execution_count": 54,
   "metadata": {},
   "outputs": [
    {
     "data": {
      "text/plain": [
       "[(u'postcode', u'100101'),\n",
       " (u'postcode', u'100875'),\n",
       " (u'postcode', u'100080'),\n",
       " (u'postcode', u'100027'),\n",
       " (u'postcode', u'100020'),\n",
       " (u'postcode', u'101399'),\n",
       " (u'postcode', u'100102'),\n",
       " (u'postcode', u'110023'),\n",
       " (u'postcode', u'053600')]"
      ]
     },
     "execution_count": 54,
     "metadata": {},
     "output_type": "execute_result"
    }
   ],
   "source": [
    "retrieve_data_from_sqlite('select key, value from nodes_tags where key=\"postcode\"')"
   ]
  },
  {
   "cell_type": "code",
   "execution_count": 55,
   "metadata": {
    "collapsed": true
   },
   "outputs": [],
   "source": [
    "def isPostcode(element):\n",
    "    return element.tag == 'tag' and element.attrib['k'] == 'addr:postcode'"
   ]
  },
  {
   "cell_type": "code",
   "execution_count": null,
   "metadata": {
    "collapsed": true
   },
   "outputs": [],
   "source": [
    "def auditPostcode(element)"
   ]
  }
 ],
 "metadata": {
  "kernelspec": {
   "display_name": "Python 2",
   "language": "python",
   "name": "python2"
  },
  "language_info": {
   "codemirror_mode": {
    "name": "ipython",
    "version": 2
   },
   "file_extension": ".py",
   "mimetype": "text/x-python",
   "name": "python",
   "nbconvert_exporter": "python",
   "pygments_lexer": "ipython2",
   "version": "2.7.13"
  }
 },
 "nbformat": 4,
 "nbformat_minor": 2
}
